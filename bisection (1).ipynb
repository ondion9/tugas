{
  "nbformat": 4,
  "nbformat_minor": 0,
  "metadata": {
    "colab": {
      "provenance": []
    },
    "kernelspec": {
      "name": "python3",
      "display_name": "Python 3"
    },
    "language_info": {
      "name": "python"
    }
  },
  "cells": [
    {
      "cell_type": "code",
      "source": [
        "# Impor library numpy untuk operasi numerik\n",
        "import numpy as np\n",
        "# Definisikan fungsi bisection untuk mencari akar dari fungsi f dalam interval [a, b]\n",
        "def bisection(f, a, b, tol):\n",
        "    # Memeriksa apakah f(a) dan f(b) memiliki tanda yang sama; jika iya, metode tidak dapat digunakan\n",
        "    if np.sign(f(a)) == np.sign(f(b)):\n",
        "        raise Exception(\n",
        "         \"tidak bisa\")\n",
        "    # Hitung titik tengah dari interval [a, b]\n",
        "    m = (a + b)/2\n",
        "    # Memeriksa apakah nilai fungsi di titik tengah cukup dekat ke nol (sesuai toleransi)\n",
        "    if np.abs(f(m)) < tol:\n",
        "        return m  # Kembalikan titik tengah sebagai perkiraan akar jika sudah memenuhi toleransi\n",
        "    # Jika f(a) dan f(m) memiliki tanda yang sama, akar berada di interval [m, b]\n",
        "    elif np.sign(f(a)) == np.sign(f(m)):\n",
        "        return bisection(f, m, b, tol) # Rekursi dengan [m, b] sebagai interval baru\n",
        "         # Jika f(b) dan f(m) memiliki tanda yang sama, akar berada di interval [a, m]\n",
        "    elif np.sign(f(b)) == np.sign(f(m)):\n",
        "        return bisection(f, a, m, tol)# Rekursi dengan [a, m] sebagai interval baru"
      ],
      "metadata": {
        "id": "5_LhaSoZurtu"
      },
      "execution_count": 5,
      "outputs": []
    },
    {
      "cell_type": "code",
      "source": [
        "# Definisikan fungsi f(x) = x^2 - 2 yang ingin kita cari akarnya\n",
        "f = lambda x: x**2 - 2\n",
        "\n",
        "# Gunakan fungsi bisection untuk mendekati akar dari f dalam interval [0, 2] dengan toleransi 0.1\n",
        "r1 = bisection(f, 0, 2, 0.1)\n",
        "print(\"r1 =\", r1)# Cetak hasil untuk toleransi 0.1\n",
        "# Gunakan fungsi bisection untuk mendekati akar dari f dalam interval [0, 2] dengan toleransi 0.01\n",
        "r01 = bisection(f, 0, 2, 0.01)\n",
        "print(\"r01 =\", r01)# Cetak hasil untuk toleransi 0.01\n",
        "\n"
      ],
      "metadata": {
        "colab": {
          "base_uri": "https://localhost:8080/"
        },
        "id": "8LsajxBwRKcf",
        "outputId": "78b2d3ee-235c-4181-fab6-5a0e384cc185"
      },
      "execution_count": 9,
      "outputs": [
        {
          "output_type": "stream",
          "name": "stdout",
          "text": [
            "r1 = 1.4375\n",
            "r01 = 1.4140625\n"
          ]
        }
      ]
    },
    {
      "cell_type": "code",
      "source": [
        "\n",
        "# Evaluasi fungsi pada perkiraan akar yang ditemukan dengan toleransi 0.1\n",
        "print(\"f(r1) =\", f(r1))\n",
        "# Evaluasi fungsi pada perkiraan akar yang ditemukan dengan toleransi 0.01\n",
        "print(\"f(r01) =\", f(r01))"
      ],
      "metadata": {
        "id": "ncQT2IKYvNBk",
        "colab": {
          "base_uri": "https://localhost:8080/"
        },
        "outputId": "6e0fa77f-4edb-4030-d693-7f3eefce22a4"
      },
      "execution_count": 7,
      "outputs": [
        {
          "output_type": "stream",
          "name": "stdout",
          "text": [
            "f(r1) = 0.06640625\n",
            "f(r01) = -0.00042724609375\n"
          ]
        }
      ]
    }
  ]
}